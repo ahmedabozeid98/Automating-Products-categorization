{
 "cells": [
  {
   "cell_type": "code",
   "execution_count": 2,
   "id": "f25e8c6f",
   "metadata": {},
   "outputs": [],
   "source": [
    "import pandas as pd\n",
    "import numpy as np\n",
    "import seaborn as sns\n",
    "import re"
   ]
  },
  {
   "cell_type": "code",
   "execution_count": 29,
   "id": "5ed4d992",
   "metadata": {},
   "outputs": [],
   "source": [
    "df = pd.read_excel(r\"D:\\ahmed.ismail\\Downloads\\Avon GPC Cosmetics.xlsx\")"
   ]
  },
  {
   "cell_type": "code",
   "execution_count": 30,
   "id": "150cbce8",
   "metadata": {},
   "outputs": [
    {
     "data": {
      "text/html": [
       "<div>\n",
       "<style scoped>\n",
       "    .dataframe tbody tr th:only-of-type {\n",
       "        vertical-align: middle;\n",
       "    }\n",
       "\n",
       "    .dataframe tbody tr th {\n",
       "        vertical-align: top;\n",
       "    }\n",
       "\n",
       "    .dataframe thead th {\n",
       "        text-align: right;\n",
       "    }\n",
       "</style>\n",
       "<table border=\"1\" class=\"dataframe\">\n",
       "  <thead>\n",
       "    <tr style=\"text-align: right;\">\n",
       "      <th></th>\n",
       "      <th>name</th>\n",
       "      <th>category_name</th>\n",
       "    </tr>\n",
       "  </thead>\n",
       "  <tbody>\n",
       "    <tr>\n",
       "      <th>0</th>\n",
       "      <td>AVON Cosmetics Incandessence Redesign 2015 Bod...</td>\n",
       "      <td>Fragrances</td>\n",
       "    </tr>\n",
       "    <tr>\n",
       "      <th>1</th>\n",
       "      <td>AVON Cosmetics Far Away Body Spray Revamp Emea...</td>\n",
       "      <td>Fragrances</td>\n",
       "    </tr>\n",
       "    <tr>\n",
       "      <th>2</th>\n",
       "      <td>AVON Cosmetics Full Speed Original Body Spray ...</td>\n",
       "      <td>Fragrances</td>\n",
       "    </tr>\n",
       "    <tr>\n",
       "      <th>3</th>\n",
       "      <td>AVON Cosmetics Far Away New Gesture Liquid Sil...</td>\n",
       "      <td>Skin Care/Moisturising Products</td>\n",
       "    </tr>\n",
       "    <tr>\n",
       "      <th>4</th>\n",
       "      <td>AVON Cosmetics Musk Marine Revamp Edt 1 Piece</td>\n",
       "      <td>Fragrances</td>\n",
       "    </tr>\n",
       "    <tr>\n",
       "      <th>...</th>\n",
       "      <td>...</td>\n",
       "      <td>...</td>\n",
       "    </tr>\n",
       "    <tr>\n",
       "      <th>1531</th>\n",
       "      <td>Avon Cosmetics Colour Ultra Shimmer Lipstick -...</td>\n",
       "      <td>Cosmetics - Lips</td>\n",
       "    </tr>\n",
       "    <tr>\n",
       "      <th>1532</th>\n",
       "      <td>Avon Cosmetics Colour Ultra Shimmer Lipstick -...</td>\n",
       "      <td>Cosmetics - Lips</td>\n",
       "    </tr>\n",
       "    <tr>\n",
       "      <th>1533</th>\n",
       "      <td>Avon Cosmetics Colour Ultra Shimmer Lipstick -...</td>\n",
       "      <td>Cosmetics - Lips</td>\n",
       "    </tr>\n",
       "    <tr>\n",
       "      <th>1534</th>\n",
       "      <td>Avon Cosmetics Fw Illipe Butter Scrub 75Ml Cee...</td>\n",
       "      <td>Exfoliants/Masks</td>\n",
       "    </tr>\n",
       "    <tr>\n",
       "      <th>1535</th>\n",
       "      <td>Avon Cosmetics Fw Illipe Butter Serum 50Ml Cee...</td>\n",
       "      <td>Skin Care/Moisturising Products</td>\n",
       "    </tr>\n",
       "  </tbody>\n",
       "</table>\n",
       "<p>1536 rows × 2 columns</p>\n",
       "</div>"
      ],
      "text/plain": [
       "                                                   name  \\\n",
       "0     AVON Cosmetics Incandessence Redesign 2015 Bod...   \n",
       "1     AVON Cosmetics Far Away Body Spray Revamp Emea...   \n",
       "2     AVON Cosmetics Full Speed Original Body Spray ...   \n",
       "3     AVON Cosmetics Far Away New Gesture Liquid Sil...   \n",
       "4         AVON Cosmetics Musk Marine Revamp Edt 1 Piece   \n",
       "...                                                 ...   \n",
       "1531  Avon Cosmetics Colour Ultra Shimmer Lipstick -...   \n",
       "1532  Avon Cosmetics Colour Ultra Shimmer Lipstick -...   \n",
       "1533  Avon Cosmetics Colour Ultra Shimmer Lipstick -...   \n",
       "1534  Avon Cosmetics Fw Illipe Butter Scrub 75Ml Cee...   \n",
       "1535  Avon Cosmetics Fw Illipe Butter Serum 50Ml Cee...   \n",
       "\n",
       "                        category_name  \n",
       "0                          Fragrances  \n",
       "1                          Fragrances  \n",
       "2                          Fragrances  \n",
       "3     Skin Care/Moisturising Products  \n",
       "4                          Fragrances  \n",
       "...                               ...  \n",
       "1531                 Cosmetics - Lips  \n",
       "1532                 Cosmetics - Lips  \n",
       "1533                 Cosmetics - Lips  \n",
       "1534                 Exfoliants/Masks  \n",
       "1535  Skin Care/Moisturising Products  \n",
       "\n",
       "[1536 rows x 2 columns]"
      ]
     },
     "execution_count": 30,
     "metadata": {},
     "output_type": "execute_result"
    }
   ],
   "source": [
    "df"
   ]
  },
  {
   "cell_type": "code",
   "execution_count": 31,
   "id": "7365bce7",
   "metadata": {},
   "outputs": [
    {
     "name": "stdout",
     "output_type": "stream",
     "text": [
      "<class 'pandas.core.frame.DataFrame'>\n",
      "RangeIndex: 1536 entries, 0 to 1535\n",
      "Data columns (total 2 columns):\n",
      " #   Column         Non-Null Count  Dtype \n",
      "---  ------         --------------  ----- \n",
      " 0   name           1536 non-null   object\n",
      " 1   category_name  1536 non-null   object\n",
      "dtypes: object(2)\n",
      "memory usage: 24.1+ KB\n"
     ]
    }
   ],
   "source": [
    "df.info()"
   ]
  },
  {
   "cell_type": "code",
   "execution_count": 32,
   "id": "3c2120f0",
   "metadata": {},
   "outputs": [],
   "source": [
    "df.dropna(inplace=True)"
   ]
  },
  {
   "cell_type": "code",
   "execution_count": 33,
   "id": "108ef20e",
   "metadata": {},
   "outputs": [],
   "source": [
    "import re\n",
    "def decontract(sentence):\n",
    "    sentence = str(sentence)\n",
    "    sentence = re.sub(r\"won't\", \"will not\", sentence)\n",
    "    sentence = re.sub(r\"can\\'t\", \"can not\", sentence) \n",
    "                                                      \n",
    "    \n",
    "    sentence = re.sub(r\"n\\'t\", \" not\", sentence)\n",
    "    sentence = re.sub(r\"\\'re\", \" are\", sentence)\n",
    "    sentence = re.sub(r\"\\'s\", \" is\", sentence)\n",
    "    sentence = re.sub(r\"\\'d\", \" would\", sentence)\n",
    "    sentence = re.sub(r\"\\'ll\", \" will\", sentence)\n",
    "    sentence = re.sub(r\"\\'t\", \" not\", sentence)\n",
    "    sentence = re.sub(r\"\\'ve\", \" have\", sentence)\n",
    "    sentence = re.sub(r\"\\'m\", \" am\", sentence)\n",
    "    return sentence\n",
    "\n",
    "def cleanPunc(sentence): \n",
    "    sentence = str(sentence)\n",
    "    cleaned = re.sub(r'[?|!|\\'|\"|#]',r'',sentence)\n",
    "    cleaned = re.sub(r'[.|,|)|(|\\|/]',r' ',cleaned)\n",
    "    cleaned = cleaned.strip()\n",
    "    cleaned = cleaned.replace(\"\\n\",\" \")\n",
    "    return cleaned\n",
    "\n",
    "def keepAlpha(sentence):\n",
    "    sentence = str(sentence)\n",
    "    alpha_sent = \"\"\n",
    "    for word in sentence.split():\n",
    "        alpha_word = re.sub('[^a-z A-Z]+', '', word)\n",
    "        alpha_sent += alpha_word\n",
    "        alpha_sent += \" \"\n",
    "    alpha_sent = alpha_sent.strip()\n",
    "    return alpha_sent\n",
    "\n",
    "def removeStopWords(sentence):\n",
    "    sentence = str(sentence)\n",
    "    global re_stop_words\n",
    "    return re_stop_words.sub(\"\", sentence)\n",
    "\n",
    "stopwords= set(['br', 'the', 'i', 'me', 'my', 'myself', 'we', 'our', 'ours', 'ourselves', 'you', \"you're\", \"you've\",\\\n",
    "            \"you'll\", \"you'd\", 'your', 'yours', 'yourself', 'yourselves', 'he', 'him', 'his', 'himself', \\\n",
    "            'she', \"she's\", 'her', 'hers', 'herself', 'it', \"it's\", 'its', 'itself', 'they', 'them', 'their',\\\n",
    "            'theirs', 'themselves', 'what', 'which', 'who', 'whom', 'this', 'that', \"that'll\", 'these', 'those', \\\n",
    "            'am', 'is', 'are', 'was', 'were', 'be', 'been', 'being', 'have', 'has', 'had', 'having', 'do', 'does', \\\n",
    "            'did', 'doing', 'a', 'an', 'the', 'and', 'but', 'if', 'or', 'because', 'as', 'until', 'while', 'of', \\\n",
    "            'at', 'by', 'for', 'with', 'about', 'against', 'between', 'into', 'through', 'during', 'before', 'after',\\\n",
    "            'above', 'below', 'to', 'from', 'up', 'down', 'in', 'out', 'on', 'off', 'over', 'under', 'again', 'further',\\\n",
    "            'then', 'once', 'here', 'there', 'when', 'where', 'why', 'how', 'all', 'any', 'both', 'each', 'few', 'more',\\\n",
    "            'most', 'other', 'some', 'such', 'only', 'own', 'same', 'so', 'than', 'too', 'very', \\\n",
    "            's', 't', 'can', 'will', 'just', 'don', \"don't\", 'should', \"should've\", 'now', 'd', 'll', 'm', 'o', 're', \\\n",
    "            've', 'y', 'ain', 'aren', \"aren't\", 'couldn', \"couldn't\", 'didn', \"didn't\", 'doesn', \"doesn't\", 'hadn',\\\n",
    "            \"hadn't\", 'hasn', \"hasn't\", 'haven', \"haven't\", 'isn', \"isn't\", 'ma', 'mightn', \"mightn't\", 'mustn',\\\n",
    "            \"mustn't\", 'needn', \"needn't\", 'shan', \"shan't\", 'shouldn', \"shouldn't\", 'wasn', \"wasn't\", 'weren', \"weren't\", \\\n",
    "            'won', \"won't\", 'wouldn', \"wouldn't\"])\n",
    "\n",
    "re_stop_words = re.compile(r\"\\b(\" + \"|\".join(stopwords) + \")\\\\W\", re.I)\n",
    "\n",
    "# For classes\n",
    "\n",
    "def clean_text(x):\n",
    "    pattern = r'[^a-zA-z0-9\\s]'\n",
    "    text = re.sub(pattern, '', x)\n",
    "    return x\n",
    "def clean_numbers(x):\n",
    "    if bool(re.search(r'\\d', x)):\n",
    "        x = re.sub('[0-9]{5,}', '#####', x)\n",
    "        x = re.sub('[0-9]**{4}**', '####', x)\n",
    "        x = re.sub('[0-9]**{3}**', '###', x)\n",
    "        x = re.sub('[0-9]**{2}**', '##', x)\n",
    "    return x"
   ]
  },
  {
   "cell_type": "code",
   "execution_count": 34,
   "id": "c9154455",
   "metadata": {},
   "outputs": [],
   "source": [
    "df['name'] = df['name'].str.lower()\n",
    "df['name'] = df['name'].apply(decontract)\n",
    "df['name'] = df['name'].apply(cleanPunc)\n",
    "df['name'] = df['name'].apply(keepAlpha)\n",
    "df['name'] = df['name'].apply(removeStopWords)\n"
   ]
  },
  {
   "cell_type": "code",
   "execution_count": 35,
   "id": "7b75af6b",
   "metadata": {},
   "outputs": [],
   "source": [
    "x=df.drop('category_name',axis=1)\n",
    "y=df['category_name']"
   ]
  },
  {
   "cell_type": "code",
   "execution_count": 36,
   "id": "4192e68b",
   "metadata": {},
   "outputs": [],
   "source": [
    "from imblearn.over_sampling import RandomOverSampler,SMOTE"
   ]
  },
  {
   "cell_type": "code",
   "execution_count": 37,
   "id": "0271f316",
   "metadata": {},
   "outputs": [],
   "source": [
    "oversample = RandomOverSampler(sampling_strategy='all',random_state=7)\n",
    "smote = SMOTE(sampling_strategy = 'minority')"
   ]
  },
  {
   "cell_type": "code",
   "execution_count": 38,
   "id": "8e94ba60",
   "metadata": {},
   "outputs": [],
   "source": [
    "x_sampled,y_sampled = oversample.fit_resample(x.astype(str), y.astype(str))"
   ]
  },
  {
   "cell_type": "code",
   "execution_count": 39,
   "id": "1fdafbce",
   "metadata": {},
   "outputs": [],
   "source": [
    "from sklearn.svm import LinearSVC\n",
    "from sklearn.model_selection import train_test_split\n",
    "from sklearn.feature_extraction.text import CountVectorizer\n",
    "from sklearn.feature_extraction.text import TfidfTransformer, TfidfVectorizer\n",
    "from sklearn.naive_bayes import MultinomialNB\n",
    "from imblearn.pipeline import Pipeline\n",
    "from imblearn.over_sampling import RandomOverSampler"
   ]
  },
  {
   "cell_type": "code",
   "execution_count": 40,
   "id": "dde878e1",
   "metadata": {},
   "outputs": [],
   "source": [
    "x_sampled=x_sampled.iloc[:,0]"
   ]
  },
  {
   "cell_type": "code",
   "execution_count": 41,
   "id": "7a8f3ce5",
   "metadata": {},
   "outputs": [],
   "source": [
    "\n",
    "\n",
    "x_train, x_test, y_train, y_test = train_test_split(x_sampled, y_sampled, test_size=0.25, random_state=27,shuffle=True)\n"
   ]
  },
  {
   "cell_type": "code",
   "execution_count": 42,
   "id": "8ee2b37a",
   "metadata": {},
   "outputs": [],
   "source": [
    "word_vectorizer= TfidfVectorizer(\n",
    "    sublinear_tf=True,\n",
    "    strip_accents='unicode',\n",
    "    analyzer='word',\n",
    "    stop_words='english',\n",
    "    ngram_range=(1, 2),\n",
    "    max_features =10000)"
   ]
  },
  {
   "cell_type": "code",
   "execution_count": 43,
   "id": "e4fdcd5e",
   "metadata": {},
   "outputs": [
    {
     "name": "stderr",
     "output_type": "stream",
     "text": [
      "Intel(R) Extension for Scikit-learn* enabled (https://github.com/intel/scikit-learn-intelex)\n"
     ]
    }
   ],
   "source": [
    "from sklearnex import patch_sklearn\n",
    "patch_sklearn()"
   ]
  },
  {
   "cell_type": "code",
   "execution_count": 44,
   "id": "a2480e09",
   "metadata": {},
   "outputs": [
    {
     "data": {
      "text/plain": [
       "(5985,)"
      ]
     },
     "execution_count": 44,
     "metadata": {},
     "output_type": "execute_result"
    }
   ],
   "source": [
    "x_train.shape"
   ]
  },
  {
   "cell_type": "code",
   "execution_count": 45,
   "id": "2066e0b2",
   "metadata": {},
   "outputs": [],
   "source": [
    "x_train = np.ravel(x_train)"
   ]
  },
  {
   "cell_type": "code",
   "execution_count": 46,
   "id": "f530ed2e",
   "metadata": {},
   "outputs": [
    {
     "data": {
      "text/plain": [
       "(5985,)"
      ]
     },
     "execution_count": 46,
     "metadata": {},
     "output_type": "execute_result"
    }
   ],
   "source": [
    "x_train.shape"
   ]
  },
  {
   "cell_type": "code",
   "execution_count": 47,
   "id": "fb44d60b",
   "metadata": {},
   "outputs": [
    {
     "data": {
      "text/plain": [
       "(5985,)"
      ]
     },
     "execution_count": 47,
     "metadata": {},
     "output_type": "execute_result"
    }
   ],
   "source": [
    "y_train.shape"
   ]
  },
  {
   "cell_type": "code",
   "execution_count": 48,
   "id": "54cfb648",
   "metadata": {},
   "outputs": [
    {
     "data": {
      "text/plain": [
       "Pipeline(steps=[('tfidf',\n",
       "                 TfidfVectorizer(max_features=10000, ngram_range=(1, 2),\n",
       "                                 stop_words='english', strip_accents='unicode',\n",
       "                                 sublinear_tf=True)),\n",
       "                ('clf', LinearSVC(C=0.8, random_state=7))])"
      ]
     },
     "execution_count": 48,
     "metadata": {},
     "output_type": "execute_result"
    }
   ],
   "source": [
    "from sklearn.pipeline import Pipeline\n",
    "from sklearn.feature_extraction.text import TfidfTransformer, TfidfVectorizer\n",
    "from sklearn.svm import LinearSVC\n",
    "from sklearn.model_selection import cross_validate\n",
    "model = Pipeline([\n",
    "                    (\"tfidf\", word_vectorizer), # convert words to numbers using tfidf\n",
    "                    (\"clf\", LinearSVC(C=0.8,random_state=7)) # model the text\n",
    "])\n",
    "\n",
    "# Fit the pipeline to the training data\n",
    "model.fit(x_train.astype('str'), y_train)"
   ]
  },
  {
   "cell_type": "code",
   "execution_count": 49,
   "id": "c4e66f51",
   "metadata": {},
   "outputs": [],
   "source": [
    "y_train_pred = model.predict(x_train)"
   ]
  },
  {
   "cell_type": "code",
   "execution_count": 50,
   "id": "714030ea",
   "metadata": {},
   "outputs": [],
   "source": [
    "y_test_pred = model.predict(np.ravel(x_test))"
   ]
  },
  {
   "cell_type": "code",
   "execution_count": 51,
   "id": "434298a5",
   "metadata": {},
   "outputs": [],
   "source": [
    "from sklearn.metrics import accuracy_score , classification_report"
   ]
  },
  {
   "cell_type": "code",
   "execution_count": 52,
   "id": "2d6e4aa2",
   "metadata": {},
   "outputs": [
    {
     "data": {
      "text/plain": [
       "0.9898078529657477"
      ]
     },
     "execution_count": 52,
     "metadata": {},
     "output_type": "execute_result"
    }
   ],
   "source": [
    "accuracy_score(y_train,y_train_pred)"
   ]
  },
  {
   "cell_type": "code",
   "execution_count": 53,
   "id": "f4567136",
   "metadata": {},
   "outputs": [
    {
     "data": {
      "text/plain": [
       "0.9383458646616541"
      ]
     },
     "execution_count": 53,
     "metadata": {},
     "output_type": "execute_result"
    }
   ],
   "source": [
    "accuracy_score(y_test,y_test_pred)"
   ]
  },
  {
   "cell_type": "code",
   "execution_count": 54,
   "id": "98d192bf",
   "metadata": {},
   "outputs": [],
   "source": [
    "import joblib"
   ]
  },
  {
   "cell_type": "code",
   "execution_count": 55,
   "id": "2bbb6084",
   "metadata": {},
   "outputs": [
    {
     "data": {
      "text/plain": [
       "['dawoodfragrances.joblib']"
      ]
     },
     "execution_count": 55,
     "metadata": {},
     "output_type": "execute_result"
    }
   ],
   "source": [
    "joblib.dump(model,\"dawoodfragrances.joblib\")"
   ]
  },
  {
   "cell_type": "code",
   "execution_count": 56,
   "id": "d21e8b17",
   "metadata": {},
   "outputs": [],
   "source": [
    "dawoodfragrances = joblib.load(\"dawoodfragrances.joblib\")"
   ]
  },
  {
   "cell_type": "code",
   "execution_count": 57,
   "id": "b0c51183",
   "metadata": {},
   "outputs": [],
   "source": [
    "df2=pd.read_excel(r\"D:\\ahmed.ismail\\Downloads\\Abozaid el Anteef 20230409.xlsx\")"
   ]
  },
  {
   "cell_type": "code",
   "execution_count": 58,
   "id": "2c0c5cf3",
   "metadata": {},
   "outputs": [
    {
     "data": {
      "text/html": [
       "<div>\n",
       "<style scoped>\n",
       "    .dataframe tbody tr th:only-of-type {\n",
       "        vertical-align: middle;\n",
       "    }\n",
       "\n",
       "    .dataframe tbody tr th {\n",
       "        vertical-align: top;\n",
       "    }\n",
       "\n",
       "    .dataframe thead th {\n",
       "        text-align: right;\n",
       "    }\n",
       "</style>\n",
       "<table border=\"1\" class=\"dataframe\">\n",
       "  <thead>\n",
       "    <tr style=\"text-align: right;\">\n",
       "      <th></th>\n",
       "      <th>Variant English</th>\n",
       "      <th>Abo Zaid GPC</th>\n",
       "    </tr>\n",
       "  </thead>\n",
       "  <tbody>\n",
       "    <tr>\n",
       "      <th>0</th>\n",
       "      <td>2Q22 Avon Nail Pro Colour Re-Inventionbubblegum</td>\n",
       "      <td>NaN</td>\n",
       "    </tr>\n",
       "    <tr>\n",
       "      <th>1</th>\n",
       "      <td>2Q22 Avon Nail Pro Colour Re-Inventiondashing Red</td>\n",
       "      <td>NaN</td>\n",
       "    </tr>\n",
       "    <tr>\n",
       "      <th>2</th>\n",
       "      <td>2Q22 Avon Nail Pro Colour Re-Inventionfun N Fu...</td>\n",
       "      <td>NaN</td>\n",
       "    </tr>\n",
       "    <tr>\n",
       "      <th>3</th>\n",
       "      <td>2Q22 Avon Nail Pro Colour Re-Inventiongetting ...</td>\n",
       "      <td>NaN</td>\n",
       "    </tr>\n",
       "    <tr>\n",
       "      <th>4</th>\n",
       "      <td>2Q22 Avon Nail Pro Colour Re-Inventionlove Potion</td>\n",
       "      <td>NaN</td>\n",
       "    </tr>\n",
       "    <tr>\n",
       "      <th>...</th>\n",
       "      <td>...</td>\n",
       "      <td>...</td>\n",
       "    </tr>\n",
       "    <tr>\n",
       "      <th>74</th>\n",
       "      <td>Sss Body Hair Removl 100M V1Ng</td>\n",
       "      <td>NaN</td>\n",
       "    </tr>\n",
       "    <tr>\n",
       "      <th>75</th>\n",
       "      <td>Sss Face Hair Removl 15Ml V1Ng</td>\n",
       "      <td>NaN</td>\n",
       "    </tr>\n",
       "    <tr>\n",
       "      <th>76</th>\n",
       "      <td>Tta Wonder Bdy Crm 150 Vanggr</td>\n",
       "      <td>NaN</td>\n",
       "    </tr>\n",
       "    <tr>\n",
       "      <th>77</th>\n",
       "      <td>Tta Wonder Edp Dstk 0.6 Wece</td>\n",
       "      <td>NaN</td>\n",
       "    </tr>\n",
       "    <tr>\n",
       "      <th>78</th>\n",
       "      <td>Tta Wonder Her Spr 10 Vanggr</td>\n",
       "      <td>NaN</td>\n",
       "    </tr>\n",
       "  </tbody>\n",
       "</table>\n",
       "<p>79 rows × 2 columns</p>\n",
       "</div>"
      ],
      "text/plain": [
       "                                      Variant English  Abo Zaid GPC\n",
       "0     2Q22 Avon Nail Pro Colour Re-Inventionbubblegum           NaN\n",
       "1   2Q22 Avon Nail Pro Colour Re-Inventiondashing Red           NaN\n",
       "2   2Q22 Avon Nail Pro Colour Re-Inventionfun N Fu...           NaN\n",
       "3   2Q22 Avon Nail Pro Colour Re-Inventiongetting ...           NaN\n",
       "4   2Q22 Avon Nail Pro Colour Re-Inventionlove Potion           NaN\n",
       "..                                                ...           ...\n",
       "74                     Sss Body Hair Removl 100M V1Ng           NaN\n",
       "75                     Sss Face Hair Removl 15Ml V1Ng           NaN\n",
       "76                      Tta Wonder Bdy Crm 150 Vanggr           NaN\n",
       "77                       Tta Wonder Edp Dstk 0.6 Wece           NaN\n",
       "78                       Tta Wonder Her Spr 10 Vanggr           NaN\n",
       "\n",
       "[79 rows x 2 columns]"
      ]
     },
     "execution_count": 58,
     "metadata": {},
     "output_type": "execute_result"
    }
   ],
   "source": [
    "df2"
   ]
  },
  {
   "cell_type": "code",
   "execution_count": 59,
   "id": "bdbbef55",
   "metadata": {},
   "outputs": [
    {
     "data": {
      "text/plain": [
       "Index(['Variant English', 'Abo Zaid GPC'], dtype='object')"
      ]
     },
     "execution_count": 59,
     "metadata": {},
     "output_type": "execute_result"
    }
   ],
   "source": [
    "df2.columns"
   ]
  },
  {
   "cell_type": "code",
   "execution_count": 60,
   "id": "8f6854bf",
   "metadata": {},
   "outputs": [],
   "source": [
    "df2.drop(columns=['Abo Zaid GPC'],inplace=True)"
   ]
  },
  {
   "cell_type": "code",
   "execution_count": 61,
   "id": "e9a5f760",
   "metadata": {},
   "outputs": [
    {
     "data": {
      "text/html": [
       "<div>\n",
       "<style scoped>\n",
       "    .dataframe tbody tr th:only-of-type {\n",
       "        vertical-align: middle;\n",
       "    }\n",
       "\n",
       "    .dataframe tbody tr th {\n",
       "        vertical-align: top;\n",
       "    }\n",
       "\n",
       "    .dataframe thead th {\n",
       "        text-align: right;\n",
       "    }\n",
       "</style>\n",
       "<table border=\"1\" class=\"dataframe\">\n",
       "  <thead>\n",
       "    <tr style=\"text-align: right;\">\n",
       "      <th></th>\n",
       "      <th>Variant English</th>\n",
       "    </tr>\n",
       "  </thead>\n",
       "  <tbody>\n",
       "    <tr>\n",
       "      <th>0</th>\n",
       "      <td>2Q22 Avon Nail Pro Colour Re-Inventionbubblegum</td>\n",
       "    </tr>\n",
       "    <tr>\n",
       "      <th>1</th>\n",
       "      <td>2Q22 Avon Nail Pro Colour Re-Inventiondashing Red</td>\n",
       "    </tr>\n",
       "    <tr>\n",
       "      <th>2</th>\n",
       "      <td>2Q22 Avon Nail Pro Colour Re-Inventionfun N Fu...</td>\n",
       "    </tr>\n",
       "    <tr>\n",
       "      <th>3</th>\n",
       "      <td>2Q22 Avon Nail Pro Colour Re-Inventiongetting ...</td>\n",
       "    </tr>\n",
       "    <tr>\n",
       "      <th>4</th>\n",
       "      <td>2Q22 Avon Nail Pro Colour Re-Inventionlove Potion</td>\n",
       "    </tr>\n",
       "    <tr>\n",
       "      <th>...</th>\n",
       "      <td>...</td>\n",
       "    </tr>\n",
       "    <tr>\n",
       "      <th>74</th>\n",
       "      <td>Sss Body Hair Removl 100M V1Ng</td>\n",
       "    </tr>\n",
       "    <tr>\n",
       "      <th>75</th>\n",
       "      <td>Sss Face Hair Removl 15Ml V1Ng</td>\n",
       "    </tr>\n",
       "    <tr>\n",
       "      <th>76</th>\n",
       "      <td>Tta Wonder Bdy Crm 150 Vanggr</td>\n",
       "    </tr>\n",
       "    <tr>\n",
       "      <th>77</th>\n",
       "      <td>Tta Wonder Edp Dstk 0.6 Wece</td>\n",
       "    </tr>\n",
       "    <tr>\n",
       "      <th>78</th>\n",
       "      <td>Tta Wonder Her Spr 10 Vanggr</td>\n",
       "    </tr>\n",
       "  </tbody>\n",
       "</table>\n",
       "<p>79 rows × 1 columns</p>\n",
       "</div>"
      ],
      "text/plain": [
       "                                      Variant English\n",
       "0     2Q22 Avon Nail Pro Colour Re-Inventionbubblegum\n",
       "1   2Q22 Avon Nail Pro Colour Re-Inventiondashing Red\n",
       "2   2Q22 Avon Nail Pro Colour Re-Inventionfun N Fu...\n",
       "3   2Q22 Avon Nail Pro Colour Re-Inventiongetting ...\n",
       "4   2Q22 Avon Nail Pro Colour Re-Inventionlove Potion\n",
       "..                                                ...\n",
       "74                     Sss Body Hair Removl 100M V1Ng\n",
       "75                     Sss Face Hair Removl 15Ml V1Ng\n",
       "76                      Tta Wonder Bdy Crm 150 Vanggr\n",
       "77                       Tta Wonder Edp Dstk 0.6 Wece\n",
       "78                       Tta Wonder Her Spr 10 Vanggr\n",
       "\n",
       "[79 rows x 1 columns]"
      ]
     },
     "execution_count": 61,
     "metadata": {},
     "output_type": "execute_result"
    }
   ],
   "source": [
    "df2"
   ]
  },
  {
   "cell_type": "code",
   "execution_count": 62,
   "id": "165ac9da",
   "metadata": {},
   "outputs": [],
   "source": [
    "df2['gpc']= dawoodfragrances.predict(df2['Variant English'])"
   ]
  },
  {
   "cell_type": "code",
   "execution_count": 63,
   "id": "d6da3808",
   "metadata": {},
   "outputs": [
    {
     "data": {
      "text/html": [
       "<div>\n",
       "<style scoped>\n",
       "    .dataframe tbody tr th:only-of-type {\n",
       "        vertical-align: middle;\n",
       "    }\n",
       "\n",
       "    .dataframe tbody tr th {\n",
       "        vertical-align: top;\n",
       "    }\n",
       "\n",
       "    .dataframe thead th {\n",
       "        text-align: right;\n",
       "    }\n",
       "</style>\n",
       "<table border=\"1\" class=\"dataframe\">\n",
       "  <thead>\n",
       "    <tr style=\"text-align: right;\">\n",
       "      <th></th>\n",
       "      <th>Variant English</th>\n",
       "      <th>gpc</th>\n",
       "    </tr>\n",
       "  </thead>\n",
       "  <tbody>\n",
       "    <tr>\n",
       "      <th>0</th>\n",
       "      <td>2Q22 Avon Nail Pro Colour Re-Inventionbubblegum</td>\n",
       "      <td>Cosmetics - Nails</td>\n",
       "    </tr>\n",
       "    <tr>\n",
       "      <th>1</th>\n",
       "      <td>2Q22 Avon Nail Pro Colour Re-Inventiondashing Red</td>\n",
       "      <td>Cosmetics - Nails</td>\n",
       "    </tr>\n",
       "    <tr>\n",
       "      <th>2</th>\n",
       "      <td>2Q22 Avon Nail Pro Colour Re-Inventionfun N Fu...</td>\n",
       "      <td>Cosmetics - Nails</td>\n",
       "    </tr>\n",
       "    <tr>\n",
       "      <th>3</th>\n",
       "      <td>2Q22 Avon Nail Pro Colour Re-Inventiongetting ...</td>\n",
       "      <td>Cosmetics - Nails</td>\n",
       "    </tr>\n",
       "    <tr>\n",
       "      <th>4</th>\n",
       "      <td>2Q22 Avon Nail Pro Colour Re-Inventionlove Potion</td>\n",
       "      <td>Cosmetics - Nails</td>\n",
       "    </tr>\n",
       "    <tr>\n",
       "      <th>...</th>\n",
       "      <td>...</td>\n",
       "      <td>...</td>\n",
       "    </tr>\n",
       "    <tr>\n",
       "      <th>74</th>\n",
       "      <td>Sss Body Hair Removl 100M V1Ng</td>\n",
       "      <td>Hair Removal - Care</td>\n",
       "    </tr>\n",
       "    <tr>\n",
       "      <th>75</th>\n",
       "      <td>Sss Face Hair Removl 15Ml V1Ng</td>\n",
       "      <td>Cosmetic Aids/Accessories</td>\n",
       "    </tr>\n",
       "    <tr>\n",
       "      <th>76</th>\n",
       "      <td>Tta Wonder Bdy Crm 150 Vanggr</td>\n",
       "      <td>Cosmetics - Complexion</td>\n",
       "    </tr>\n",
       "    <tr>\n",
       "      <th>77</th>\n",
       "      <td>Tta Wonder Edp Dstk 0.6 Wece</td>\n",
       "      <td>Fragrances</td>\n",
       "    </tr>\n",
       "    <tr>\n",
       "      <th>78</th>\n",
       "      <td>Tta Wonder Her Spr 10 Vanggr</td>\n",
       "      <td>Cosmetic Products Other</td>\n",
       "    </tr>\n",
       "  </tbody>\n",
       "</table>\n",
       "<p>79 rows × 2 columns</p>\n",
       "</div>"
      ],
      "text/plain": [
       "                                      Variant English  \\\n",
       "0     2Q22 Avon Nail Pro Colour Re-Inventionbubblegum   \n",
       "1   2Q22 Avon Nail Pro Colour Re-Inventiondashing Red   \n",
       "2   2Q22 Avon Nail Pro Colour Re-Inventionfun N Fu...   \n",
       "3   2Q22 Avon Nail Pro Colour Re-Inventiongetting ...   \n",
       "4   2Q22 Avon Nail Pro Colour Re-Inventionlove Potion   \n",
       "..                                                ...   \n",
       "74                     Sss Body Hair Removl 100M V1Ng   \n",
       "75                     Sss Face Hair Removl 15Ml V1Ng   \n",
       "76                      Tta Wonder Bdy Crm 150 Vanggr   \n",
       "77                       Tta Wonder Edp Dstk 0.6 Wece   \n",
       "78                       Tta Wonder Her Spr 10 Vanggr   \n",
       "\n",
       "                          gpc  \n",
       "0           Cosmetics - Nails  \n",
       "1           Cosmetics - Nails  \n",
       "2           Cosmetics - Nails  \n",
       "3           Cosmetics - Nails  \n",
       "4           Cosmetics - Nails  \n",
       "..                        ...  \n",
       "74        Hair Removal - Care  \n",
       "75  Cosmetic Aids/Accessories  \n",
       "76     Cosmetics - Complexion  \n",
       "77                 Fragrances  \n",
       "78    Cosmetic Products Other  \n",
       "\n",
       "[79 rows x 2 columns]"
      ]
     },
     "execution_count": 63,
     "metadata": {},
     "output_type": "execute_result"
    }
   ],
   "source": [
    "df2"
   ]
  },
  {
   "cell_type": "code",
   "execution_count": 64,
   "id": "8765bc62",
   "metadata": {},
   "outputs": [],
   "source": [
    "df2.to_excel('Dawoodbeautycenter.xlsx')"
   ]
  },
  {
   "cell_type": "code",
   "execution_count": null,
   "id": "17b67ed0",
   "metadata": {},
   "outputs": [],
   "source": []
  }
 ],
 "metadata": {
  "kernelspec": {
   "display_name": "Python 3 (ipykernel)",
   "language": "python",
   "name": "python3"
  },
  "language_info": {
   "codemirror_mode": {
    "name": "ipython",
    "version": 3
   },
   "file_extension": ".py",
   "mimetype": "text/x-python",
   "name": "python",
   "nbconvert_exporter": "python",
   "pygments_lexer": "ipython3",
   "version": "3.9.12"
  }
 },
 "nbformat": 4,
 "nbformat_minor": 5
}
